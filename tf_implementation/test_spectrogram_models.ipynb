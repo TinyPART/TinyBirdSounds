{
 "cells": [
  {
   "cell_type": "code",
   "execution_count": 5,
   "metadata": {},
   "outputs": [],
   "source": [
    "import tensorflow as tf\n",
    "import os\n",
    "\n",
    "from helper_functions import (\n",
    "    create_spectrogram_features,\n",
    "    lite_model_from_file_predicts_dataset,\n",
    "    get_file_size, \n",
    "    convert_bytes,\n",
    ")\n",
    "\n",
    "from sklearn.metrics import confusion_matrix"
   ]
  },
  {
   "cell_type": "code",
   "execution_count": 6,
   "metadata": {},
   "outputs": [],
   "source": [
    "desired_length_of_audio = 144000\n",
    "sample_rate = 48000"
   ]
  },
  {
   "cell_type": "markdown",
   "metadata": {},
   "source": [
    "### CNN"
   ]
  },
  {
   "cell_type": "markdown",
   "metadata": {},
   "source": [
    "CNN model predicts all data from directory"
   ]
  },
  {
   "cell_type": "code",
   "execution_count": 7,
   "metadata": {},
   "outputs": [
    {
     "name": "stdout",
     "output_type": "stream",
     "text": [
      "File size: 39.469 Kilobytes\n"
     ]
    }
   ],
   "source": [
    "cnn_model_path = 'models_to_test_with_RIOT_ML/cnn_spectrogram_sr_48000_dynamic_range_quantization.tflite'\n",
    "convert_bytes(get_file_size(cnn_model_path), \"KB\")"
   ]
  },
  {
   "cell_type": "code",
   "execution_count": 11,
   "metadata": {},
   "outputs": [
    {
     "name": "stdout",
     "output_type": "stream",
     "text": [
      "Accuracy: 99.43%\n",
      "Recall: 99.41%\n",
      "Precision: 98.91%\n",
      "F1-score: 99.13%\n",
      "Prediction was not correct for some points.\n",
      "Specificity: 99.47%\n"
     ]
    }
   ],
   "source": [
    "directory = 'C:/Users/polin/Bird_song_detection/dataset/testing'\n",
    "\n",
    "x_data = []\n",
    "y_data = []\n",
    "for root, dirs, files in os.walk(directory):\n",
    "    for file in files:\n",
    "        full_file_name = os.path.join(root, file)\n",
    "\n",
    "        if \"non_target\" in str(full_file_name):\n",
    "            class_encoded = 0\n",
    "        elif \"target\" in str(full_file_name):\n",
    "            class_encoded = 1\n",
    "\n",
    "        audio, sr = tf.audio.decode_wav(tf.io.read_file(full_file_name))\n",
    "        # Prepare log mel spectrogram from audio\n",
    "        spectrogram_feature = create_spectrogram_features(audio, desired_length_of_audio, sample_rate = 48000)\n",
    "                \n",
    "        x_data.append(spectrogram_feature)\n",
    "        y_data.append(class_encoded)\n",
    "\n",
    "y_pred = lite_model_from_file_predicts_dataset(cnn_model_path, x_data, y_data)\n",
    "# print(\"\\nTrue: \", y_data)\n",
    "# print(\"Predicted: \", y_pred)\n",
    "if all(x == y for x, y in zip(y_data, y_pred)):\n",
    "    print(\"All data points were predicted correctly!\")\n",
    "else:\n",
    "    print(\"Prediction was not correct for some points.\")\n",
    "\n",
    "tn, fp, fn, tp = confusion_matrix(y_data, y_pred).ravel()\n",
    "specificity = tn / (tn+fp)\n",
    "print(f'Specificity: {specificity * 100:.2f}%')"
   ]
  },
  {
   "cell_type": "markdown",
   "metadata": {},
   "source": [
    "### SqueezeNet"
   ]
  },
  {
   "cell_type": "markdown",
   "metadata": {},
   "source": [
    "SqueezeNet model predcits all data from directory"
   ]
  },
  {
   "cell_type": "code",
   "execution_count": 12,
   "metadata": {},
   "outputs": [
    {
     "name": "stdout",
     "output_type": "stream",
     "text": [
      "File size: 769.844 Kilobytes\n"
     ]
    }
   ],
   "source": [
    "squeezenet_model_path = 'models_to_test_with_RIOT_ML/squeezenet_spectrogram_sr_48000_dynamic_range_quantization.tflite'\n",
    "convert_bytes(get_file_size(squeezenet_model_path), \"KB\")"
   ]
  },
  {
   "cell_type": "code",
   "execution_count": 13,
   "metadata": {},
   "outputs": [
    {
     "name": "stdout",
     "output_type": "stream",
     "text": [
      "Accuracy: 98.06%\n",
      "Recall: 98.56%\n",
      "Precision: 94.43%\n",
      "F1-score: 97.14%\n",
      "Prediction was not correct for some points.\n",
      "Specificity: 97.11%\n"
     ]
    }
   ],
   "source": [
    "directory = 'C:/Users/polin/Bird_song_detection/dataset/testing'\n",
    "\n",
    "x_data = []\n",
    "y_data = []\n",
    "for root, dirs, files in os.walk(directory):\n",
    "    for file in files:\n",
    "        full_file_name = os.path.join(root, file)\n",
    "\n",
    "        if \"non_target\" in str(full_file_name):\n",
    "            class_encoded = 0\n",
    "        elif \"target\" in str(full_file_name):\n",
    "            class_encoded = 1\n",
    "\n",
    "        audio, sr = tf.audio.decode_wav(tf.io.read_file(full_file_name))\n",
    "         # Prepare log mel spectrogram from audio\n",
    "        spectrogram_feature = create_spectrogram_features(audio, desired_length_of_audio, sample_rate=48000)\n",
    "                \n",
    "        x_data.append(spectrogram_feature)\n",
    "        y_data.append(class_encoded)\n",
    "\n",
    "y_pred = lite_model_from_file_predicts_dataset(squeezenet_model_path, x_data, y_data)\n",
    "# print(\"\\nTrue: \", y_data)\n",
    "# print(\"Predicted: \", y_pred)\n",
    "if all(x == y for x, y in zip(y_data, y_pred)):\n",
    "    print(\"All data points were predicted correctly!\")\n",
    "else:\n",
    "    print(\"Prediction was not correct for some points.\")\n",
    "\n",
    "tn, fp, fn, tp = confusion_matrix(y_data, y_pred).ravel()\n",
    "specificity = tn / (tn+fp)\n",
    "print(f'Specificity: {specificity * 100:.2f}%')"
   ]
  }
 ],
 "metadata": {
  "kernelspec": {
   "display_name": "ag14",
   "language": "python",
   "name": "python3"
  },
  "language_info": {
   "codemirror_mode": {
    "name": "ipython",
    "version": 3
   },
   "file_extension": ".py",
   "mimetype": "text/x-python",
   "name": "python",
   "nbconvert_exporter": "python",
   "pygments_lexer": "ipython3",
   "version": "3.9.19"
  }
 },
 "nbformat": 4,
 "nbformat_minor": 2
}
