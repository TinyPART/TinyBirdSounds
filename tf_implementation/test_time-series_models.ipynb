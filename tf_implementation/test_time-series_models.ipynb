{
 "cells": [
  {
   "cell_type": "code",
   "execution_count": 1,
   "metadata": {},
   "outputs": [],
   "source": [
    "%load_ext autoreload\n",
    "%autoreload 2"
   ]
  },
  {
   "cell_type": "code",
   "execution_count": 2,
   "metadata": {},
   "outputs": [
    {
     "name": "stderr",
     "output_type": "stream",
     "text": [
      "2024-06-19 15:58:14.135482: I external/local_tsl/tsl/cuda/cudart_stub.cc:31] Could not find cuda drivers on your machine, GPU will not be used.\n",
      "2024-06-19 15:58:14.227616: E external/local_xla/xla/stream_executor/cuda/cuda_dnn.cc:9261] Unable to register cuDNN factory: Attempting to register factory for plugin cuDNN when one has already been registered\n",
      "2024-06-19 15:58:14.227639: E external/local_xla/xla/stream_executor/cuda/cuda_fft.cc:607] Unable to register cuFFT factory: Attempting to register factory for plugin cuFFT when one has already been registered\n",
      "2024-06-19 15:58:14.230530: E external/local_xla/xla/stream_executor/cuda/cuda_blas.cc:1515] Unable to register cuBLAS factory: Attempting to register factory for plugin cuBLAS when one has already been registered\n",
      "2024-06-19 15:58:14.237415: I external/local_tsl/tsl/cuda/cudart_stub.cc:31] Could not find cuda drivers on your machine, GPU will not be used.\n",
      "2024-06-19 15:58:14.238397: I tensorflow/core/platform/cpu_feature_guard.cc:182] This TensorFlow binary is optimized to use available CPU instructions in performance-critical operations.\n",
      "To enable the following instructions: AVX2 FMA, in other operations, rebuild TensorFlow with the appropriate compiler flags.\n",
      "2024-06-19 15:58:15.355345: W tensorflow/compiler/tf2tensorrt/utils/py_utils.cc:38] TF-TRT Warning: Could not find TensorRT\n"
     ]
    }
   ],
   "source": [
    "import tensorflow as tf\n",
    "import os\n",
    "import numpy as np\n",
    "import tensorflow_io as tfio\n",
    "\n",
    "from helper_functions import (\n",
    "    convert_prefetchdataset_to_numpy_arrays,\n",
    "    lite_model_from_file_predicts_dataset,\n",
    "    get_file_size, \n",
    "    convert_bytes,\n",
    "    evaluate_prediction,\n",
    ")\n",
    "\n",
    "\n",
    "from sklearn.metrics import confusion_matrix"
   ]
  },
  {
   "cell_type": "code",
   "execution_count": 3,
   "metadata": {},
   "outputs": [],
   "source": [
    "desired_length_of_audio = 48000\n",
    "sample_rate = 16000"
   ]
  },
  {
   "cell_type": "code",
   "execution_count": 4,
   "metadata": {},
   "outputs": [
    {
     "name": "stderr",
     "output_type": "stream",
     "text": [
      "2024-06-19 15:58:16.953953: I external/local_xla/xla/stream_executor/cuda/cuda_executor.cc:887] could not open file to read NUMA node: /sys/bus/pci/devices/0000:01:00.0/numa_node\n",
      "Your kernel may have been built without NUMA support.\n",
      "2024-06-19 15:58:16.954383: W tensorflow/core/common_runtime/gpu/gpu_device.cc:2256] Cannot dlopen some GPU libraries. Please make sure the missing libraries mentioned above are installed properly if you would like to use GPU. Follow the guide at https://www.tensorflow.org/install/gpu for how to download and setup the required libraries for your platform.\n",
      "Skipping registering GPU devices...\n",
      "2024-06-19 15:58:17.051968: I tensorflow_io/core/kernels/cpu_check.cc:128] Your CPU supports instructions that this TensorFlow IO binary was not compiled to use: SSE3 SSE4.1 SSE4.2 AVX AVX2 FMA\n",
      "2024-06-19 15:58:17.056229: W tensorflow_io/core/kernels/audio_video_mp3_kernels.cc:271] libmp3lame.so.0 or lame functions are not available\n"
     ]
    },
    {
     "name": "stdout",
     "output_type": "stream",
     "text": [
      "WARNING:tensorflow:5 out of the last 5 calls to <function pfor.<locals>.f at 0x7fc757977430> triggered tf.function retracing. Tracing is expensive and the excessive number of tracings could be due to (1) creating @tf.function repeatedly in a loop, (2) passing tensors with different shapes, (3) passing Python objects instead of tensors. For (1), please define your @tf.function outside of the loop. For (2), @tf.function has reduce_retracing=True option that can avoid unnecessary retracing. For (3), please refer to https://www.tensorflow.org/guide/function#controlling_retracing and https://www.tensorflow.org/api_docs/python/tf/function for  more details.\n",
      "WARNING:tensorflow:6 out of the last 6 calls to <function pfor.<locals>.f at 0x7fc757977280> triggered tf.function retracing. Tracing is expensive and the excessive number of tracings could be due to (1) creating @tf.function repeatedly in a loop, (2) passing tensors with different shapes, (3) passing Python objects instead of tensors. For (1), please define your @tf.function outside of the loop. For (2), @tf.function has reduce_retracing=True option that can avoid unnecessary retracing. For (3), please refer to https://www.tensorflow.org/guide/function#controlling_retracing and https://www.tensorflow.org/api_docs/python/tf/function for  more details.\n"
     ]
    }
   ],
   "source": [
    "# Take all audio from testing dataset and create spectrograms from them\n",
    "# We will use spectrograms for models testing\n",
    "directory = 'dataset/testing'\n",
    "\n",
    "x_data = []\n",
    "y_data = []\n",
    "for root, dirs, files in os.walk(directory):\n",
    "    for file in files:\n",
    "        full_file_name = os.path.join(root, file)\n",
    "\n",
    "        if \"non_target\" in str(full_file_name):\n",
    "            class_encoded = 0\n",
    "        elif \"target\" in str(full_file_name):\n",
    "            class_encoded = 1\n",
    "\n",
    "        audio, sr = tf.audio.decode_wav(tf.io.read_file(full_file_name))\n",
    "        audio = tf.squeeze(audio, axis=-1)\n",
    "        resampled_audio = tfio.audio.resample(audio, rate_in=48000, rate_out=sample_rate)\n",
    "        audio_length = tf.shape(resampled_audio)[0]\n",
    "        if audio_length < desired_length_of_audio:\n",
    "            resampled_audio = tf.pad(resampled_audio, [[0, desired_length_of_audio - audio_length]], mode='CONSTANT')\n",
    "        else:\n",
    "            resampled_audio = resampled_audio[:desired_length_of_audio]\n",
    "        resampled_audio = tf.expand_dims(resampled_audio, axis=-1).numpy()\n",
    "\n",
    "        x_data.append(resampled_audio)\n",
    "        y_data.append(class_encoded)\n",
    "\n",
    "# input data should be in numpy array, not in list\n",
    "x_data_np = np.array(x_data)\n",
    "y_data_np = np.array(y_data)"
   ]
  },
  {
   "cell_type": "code",
   "execution_count": 5,
   "metadata": {},
   "outputs": [
    {
     "name": "stdout",
     "output_type": "stream",
     "text": [
      "(48000, 1)\n"
     ]
    }
   ],
   "source": [
    "for i in x_data_np:\n",
    "    print(i.shape)\n",
    "    break"
   ]
  },
  {
   "cell_type": "markdown",
   "metadata": {},
   "source": [
    "### CNN"
   ]
  },
  {
   "cell_type": "markdown",
   "metadata": {},
   "source": [
    "##### CNN initial model in keras format"
   ]
  },
  {
   "cell_type": "code",
   "execution_count": 6,
   "metadata": {},
   "outputs": [
    {
     "name": "stdout",
     "output_type": "stream",
     "text": [
      "File size: 712.659 Kilobytes\n"
     ]
    }
   ],
   "source": [
    "cnn_initial_model_path = 'time_series_models_from_notebooks/cnn/cnn_time_series_16kHz_baseline.keras'\n",
    "convert_bytes(get_file_size(cnn_initial_model_path), \"KB\")"
   ]
  },
  {
   "cell_type": "code",
   "execution_count": 7,
   "metadata": {},
   "outputs": [
    {
     "name": "stderr",
     "output_type": "stream",
     "text": [
      "2024-06-19 15:59:13.845419: W external/local_tsl/tsl/framework/cpu_allocator_impl.cc:83] Allocation of 267456000 exceeds 10% of free system memory.\n",
      "2024-06-19 15:59:14.175072: W external/local_tsl/tsl/framework/cpu_allocator_impl.cc:83] Allocation of 36862464 exceeds 10% of free system memory.\n",
      "2024-06-19 15:59:14.213022: W external/local_tsl/tsl/framework/cpu_allocator_impl.cc:83] Allocation of 36862464 exceeds 10% of free system memory.\n",
      "2024-06-19 15:59:14.238133: W external/local_tsl/tsl/framework/cpu_allocator_impl.cc:83] Allocation of 36862464 exceeds 10% of free system memory.\n",
      "2024-06-19 15:59:14.264452: W external/local_tsl/tsl/framework/cpu_allocator_impl.cc:83] Allocation of 36862464 exceeds 10% of free system memory.\n"
     ]
    },
    {
     "name": "stdout",
     "output_type": "stream",
     "text": [
      "Accuracy: 96.12%\n",
      "Recall: 92.14%\n",
      "Precision: 95.91%\n",
      "F1-score: 93.99%\n"
     ]
    }
   ],
   "source": [
    "cnn_initial_model = tf.keras.models.load_model(cnn_initial_model_path)\n",
    "# input data should be in numpy array\n",
    "y_pred_prob = cnn_initial_model.predict(x_data_np, verbose=0)\n",
    "y_pred = tf.argmax(y_pred_prob, axis=1).numpy()\n",
    "\n",
    "# Evaluate\n",
    "evaluate_prediction(y_data_np, y_pred)"
   ]
  },
  {
   "cell_type": "markdown",
   "metadata": {},
   "source": [
    "##### CNN tf Lite model (without any additional quantization techniques)"
   ]
  },
  {
   "cell_type": "code",
   "execution_count": 8,
   "metadata": {},
   "outputs": [
    {
     "name": "stdout",
     "output_type": "stream",
     "text": [
      "File size: 231.473 Kilobytes\n"
     ]
    },
    {
     "name": "stderr",
     "output_type": "stream",
     "text": [
      "INFO: Created TensorFlow Lite XNNPACK delegate for CPU.\n",
      "WARNING: Attempting to use a delegate that only supports static-sized tensors with a graph that has dynamic-sized tensors (tensor#33 is a dynamic-sized tensor).\n"
     ]
    },
    {
     "name": "stdout",
     "output_type": "stream",
     "text": [
      "Accuracy: 96.12%\n",
      "Recall: 92.14%\n",
      "Precision: 95.91%\n",
      "F1-score: 93.99%\n"
     ]
    }
   ],
   "source": [
    "cnn_tflite_model_path = 'time_series_models_from_notebooks/cnn/cnn_time_series_16kHz.tflite'\n",
    "convert_bytes(get_file_size(cnn_tflite_model_path), \"KB\")\n",
    "\n",
    "y_pred = lite_model_from_file_predicts_dataset(cnn_tflite_model_path, x_data_np, y_data_np)"
   ]
  },
  {
   "cell_type": "markdown",
   "metadata": {},
   "source": [
    "##### CNN tf Lite model + Post Training Dynamic range quantization"
   ]
  },
  {
   "cell_type": "code",
   "execution_count": 9,
   "metadata": {},
   "outputs": [
    {
     "name": "stdout",
     "output_type": "stream",
     "text": [
      "File size: 63.078 Kilobytes\n",
      "Accuracy: 96.12%\n",
      "Recall: 92.14%\n",
      "Precision: 95.91%\n",
      "F1-score: 93.99%\n"
     ]
    }
   ],
   "source": [
    "cnn_drq_model_path = 'time_series_models_from_notebooks/cnn/cnn_time_series_16kHz_drq.tflite'\n",
    "convert_bytes(get_file_size(cnn_drq_model_path), \"KB\")\n",
    "\n",
    "y_pred = lite_model_from_file_predicts_dataset(cnn_drq_model_path, x_data_np, y_data_np)"
   ]
  },
  {
   "cell_type": "markdown",
   "metadata": {},
   "source": [
    "##### CNN tf Lite model + Float 16 quantization"
   ]
  },
  {
   "cell_type": "code",
   "execution_count": 10,
   "metadata": {},
   "outputs": [
    {
     "name": "stdout",
     "output_type": "stream",
     "text": [
      "File size: 119.863 Kilobytes\n",
      "Accuracy: 96.12%\n",
      "Recall: 92.14%\n",
      "Precision: 95.91%\n",
      "F1-score: 93.99%\n"
     ]
    }
   ],
   "source": [
    "cnn_float16q_model_path = 'time_series_models_from_notebooks/cnn/cnn_time_series_16kHz_float16q.tflite'\n",
    "convert_bytes(get_file_size(cnn_float16q_model_path), \"KB\")\n",
    "\n",
    "y_pred = lite_model_from_file_predicts_dataset(cnn_float16q_model_path, x_data_np, y_data_np)"
   ]
  },
  {
   "cell_type": "markdown",
   "metadata": {},
   "source": [
    "##### CNN tf Lite model + Full integer quantization"
   ]
  },
  {
   "cell_type": "code",
   "execution_count": 11,
   "metadata": {},
   "outputs": [
    {
     "name": "stdout",
     "output_type": "stream",
     "text": [
      "File size: 63.898 Kilobytes\n",
      "Accuracy: 67.12%\n",
      "Recall: 0.00%\n",
      "Precision: 0.00%\n",
      "F1-score: 0.00%\n"
     ]
    },
    {
     "name": "stderr",
     "output_type": "stream",
     "text": [
      "/home/polina/TinyBirdSongDetection/venv/lib/python3.9/site-packages/sklearn/metrics/_classification.py:1517: UndefinedMetricWarning: Precision is ill-defined and being set to 0.0 due to no predicted samples. Use `zero_division` parameter to control this behavior.\n",
      "  _warn_prf(average, modifier, f\"{metric.capitalize()} is\", len(result))\n"
     ]
    }
   ],
   "source": [
    "cnn_full_int_q_model_path = 'time_series_models_from_notebooks/cnn/cnn_time_series_16kHz_full_int_q.tflite'\n",
    "convert_bytes(get_file_size(cnn_full_int_q_model_path), \"KB\")\n",
    "\n",
    "y_pred = lite_model_from_file_predicts_dataset(cnn_full_int_q_model_path, x_data_np, y_data_np, input_data_uint8_type=True)"
   ]
  },
  {
   "cell_type": "markdown",
   "metadata": {},
   "source": [
    "### SqueezeNet"
   ]
  },
  {
   "cell_type": "markdown",
   "metadata": {},
   "source": [
    "##### SqueezeNet initial model in keras format"
   ]
  },
  {
   "cell_type": "code",
   "execution_count": 12,
   "metadata": {},
   "outputs": [
    {
     "name": "stdout",
     "output_type": "stream",
     "text": [
      "File size: 531.003 Kilobytes\n"
     ]
    }
   ],
   "source": [
    "squeezenet_initial_model_path = 'time_series_models_from_notebooks/squeezenet/squeezenet30%_time_series_16kHz_baseline.keras'\n",
    "convert_bytes(get_file_size(squeezenet_initial_model_path), \"KB\")"
   ]
  },
  {
   "cell_type": "code",
   "execution_count": 13,
   "metadata": {},
   "outputs": [
    {
     "name": "stdout",
     "output_type": "stream",
     "text": [
      "Accuracy: 96.63%\n",
      "Recall: 94.10%\n",
      "Precision: 95.57%\n",
      "F1-score: 94.83%\n"
     ]
    }
   ],
   "source": [
    "squeezenet_initial_model = tf.keras.models.load_model(squeezenet_initial_model_path)\n",
    "# input data should be in numpy array\n",
    "y_pred_prob = squeezenet_initial_model.predict(x_data_np, verbose=0)\n",
    "y_pred = tf.argmax(y_pred_prob, axis=1).numpy()\n",
    "\n",
    "# Evaluate\n",
    "evaluate_prediction(y_data_np, y_pred)"
   ]
  },
  {
   "cell_type": "markdown",
   "metadata": {},
   "source": [
    "##### SqueezeNet tf Lite model (without any additional quantization techniques)"
   ]
  },
  {
   "cell_type": "code",
   "execution_count": 14,
   "metadata": {},
   "outputs": [
    {
     "name": "stdout",
     "output_type": "stream",
     "text": [
      "File size: 150.871 Kilobytes\n",
      "Accuracy: 96.63%\n",
      "Recall: 94.10%\n",
      "Precision: 95.57%\n",
      "F1-score: 94.83%\n"
     ]
    }
   ],
   "source": [
    "squeezenet_tflite_model_path = 'time_series_models_from_notebooks/squeezenet/squeezenet30%_time_series_16kHz.tflite'\n",
    "convert_bytes(get_file_size(squeezenet_tflite_model_path), \"KB\")\n",
    "y_pred = lite_model_from_file_predicts_dataset(squeezenet_tflite_model_path, x_data_np, y_data_np)"
   ]
  },
  {
   "cell_type": "markdown",
   "metadata": {},
   "source": [
    "##### SqueezeNet tf Lite model + Post Training Dynamic range quantization"
   ]
  },
  {
   "cell_type": "code",
   "execution_count": 15,
   "metadata": {},
   "outputs": [
    {
     "name": "stdout",
     "output_type": "stream",
     "text": [
      "File size: 89.656 Kilobytes\n",
      "Accuracy: 96.63%\n",
      "Recall: 94.10%\n",
      "Precision: 95.57%\n",
      "F1-score: 94.83%\n"
     ]
    }
   ],
   "source": [
    "squeezenet_tflite_drq_model_path = 'time_series_models_from_notebooks/squeezenet/squeezenet30%_time_series_16kHz_drq.tflite'\n",
    "convert_bytes(get_file_size(squeezenet_tflite_drq_model_path), \"KB\")\n",
    "y_pred = lite_model_from_file_predicts_dataset(squeezenet_tflite_drq_model_path, x_data_np, y_data_np)"
   ]
  },
  {
   "cell_type": "markdown",
   "metadata": {},
   "source": [
    "##### SqueezeNet tf Lite model + Float 16 quantization"
   ]
  },
  {
   "cell_type": "code",
   "execution_count": 16,
   "metadata": {},
   "outputs": [
    {
     "name": "stdout",
     "output_type": "stream",
     "text": [
      "File size: 97.117 Kilobytes\n",
      "Accuracy: 96.63%\n",
      "Recall: 94.10%\n",
      "Precision: 95.57%\n",
      "F1-score: 94.83%\n"
     ]
    }
   ],
   "source": [
    "squeezenet_float16q_model_path = 'time_series_models_from_notebooks/squeezenet/squeezenet30%_time_series_16kHz_float16q.tflite'\n",
    "convert_bytes(get_file_size(squeezenet_float16q_model_path), \"KB\")\n",
    "\n",
    "y_pred = lite_model_from_file_predicts_dataset(squeezenet_float16q_model_path, x_data_np, y_data_np)"
   ]
  },
  {
   "cell_type": "markdown",
   "metadata": {},
   "source": [
    "##### CNN tf Lite model + Full integer quantization"
   ]
  },
  {
   "cell_type": "code",
   "execution_count": 17,
   "metadata": {},
   "outputs": [
    {
     "name": "stdout",
     "output_type": "stream",
     "text": [
      "File size: 87.039 Kilobytes\n",
      "Accuracy: 67.12%\n",
      "Recall: 0.00%\n",
      "Precision: 0.00%\n",
      "F1-score: 0.00%\n"
     ]
    },
    {
     "name": "stderr",
     "output_type": "stream",
     "text": [
      "/home/polina/TinyBirdSongDetection/venv/lib/python3.9/site-packages/sklearn/metrics/_classification.py:1517: UndefinedMetricWarning: Precision is ill-defined and being set to 0.0 due to no predicted samples. Use `zero_division` parameter to control this behavior.\n",
      "  _warn_prf(average, modifier, f\"{metric.capitalize()} is\", len(result))\n"
     ]
    }
   ],
   "source": [
    "squeezenet_full_int_q_model_path = 'time_series_models_from_notebooks/squeezenet/squeezenet30%_time_series_16kHz_full_int_q.tflite'\n",
    "convert_bytes(get_file_size(squeezenet_full_int_q_model_path), \"KB\")\n",
    "\n",
    "y_pred = lite_model_from_file_predicts_dataset(squeezenet_full_int_q_model_path, x_data_np, y_data_np, input_data_uint8_type=True)"
   ]
  },
  {
   "cell_type": "code",
   "execution_count": null,
   "metadata": {},
   "outputs": [],
   "source": []
  }
 ],
 "metadata": {
  "kernelspec": {
   "display_name": "ag14",
   "language": "python",
   "name": "python3"
  },
  "language_info": {
   "codemirror_mode": {
    "name": "ipython",
    "version": 3
   },
   "file_extension": ".py",
   "mimetype": "text/x-python",
   "name": "python",
   "nbconvert_exporter": "python",
   "pygments_lexer": "ipython3",
   "version": "3.9.19"
  }
 },
 "nbformat": 4,
 "nbformat_minor": 2
}
